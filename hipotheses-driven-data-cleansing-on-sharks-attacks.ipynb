{
 "cells": [
  {
   "cell_type": "markdown",
   "metadata": {},
   "source": [
    "# Hypothesis driven data cleaning on shark attacks\n",
    "\n",
    "- Hypothesis # 1: Spear-fishers are more frequently attacked than peolpe doing any other activity.\n",
    "\n",
    "- Hypothesis # 2: Women are less attacked by sharks than men.\n",
    "\n",
    "- Hypothesis # 3: The more recent the event, the higher the records are."
   ]
  },
  {
   "cell_type": "code",
   "execution_count": 3,
   "metadata": {},
   "outputs": [],
   "source": [
    "import pandas as pd\n",
    "import numpy as np\n",
    "import matplotlib.pylab as plt"
   ]
  },
  {
   "cell_type": "markdown",
   "metadata": {},
   "source": [
    "TO-DO:\n",
    "\n",
    "- cross-table\n"
   ]
  },
  {
   "cell_type": "markdown",
   "metadata": {},
   "source": [
    "# Previsualization"
   ]
  },
  {
   "cell_type": "code",
   "execution_count": 5,
   "metadata": {},
   "outputs": [
    {
     "name": "stdout",
     "output_type": "stream",
     "text": [
      "(5992, 24)\n"
     ]
    },
    {
     "data": {
      "text/html": [
       "<div>\n",
       "<style scoped>\n",
       "    .dataframe tbody tr th:only-of-type {\n",
       "        vertical-align: middle;\n",
       "    }\n",
       "\n",
       "    .dataframe tbody tr th {\n",
       "        vertical-align: top;\n",
       "    }\n",
       "\n",
       "    .dataframe thead th {\n",
       "        text-align: right;\n",
       "    }\n",
       "</style>\n",
       "<table border=\"1\" class=\"dataframe\">\n",
       "  <thead>\n",
       "    <tr style=\"text-align: right;\">\n",
       "      <th></th>\n",
       "      <th>Case Number</th>\n",
       "      <th>Date</th>\n",
       "      <th>Year</th>\n",
       "      <th>Type</th>\n",
       "      <th>Country</th>\n",
       "      <th>Area</th>\n",
       "      <th>Location</th>\n",
       "      <th>Activity</th>\n",
       "      <th>Name</th>\n",
       "      <th>Sex</th>\n",
       "      <th>...</th>\n",
       "      <th>Species</th>\n",
       "      <th>Investigator or Source</th>\n",
       "      <th>pdf</th>\n",
       "      <th>href formula</th>\n",
       "      <th>href</th>\n",
       "      <th>Case Number.1</th>\n",
       "      <th>Case Number.2</th>\n",
       "      <th>original order</th>\n",
       "      <th>Unnamed: 22</th>\n",
       "      <th>Unnamed: 23</th>\n",
       "    </tr>\n",
       "  </thead>\n",
       "  <tbody>\n",
       "    <tr>\n",
       "      <th>0</th>\n",
       "      <td>2016.09.18.c</td>\n",
       "      <td>18-Sep-16</td>\n",
       "      <td>2016</td>\n",
       "      <td>Unprovoked</td>\n",
       "      <td>USA</td>\n",
       "      <td>Florida</td>\n",
       "      <td>New Smyrna Beach, Volusia County</td>\n",
       "      <td>Surfing</td>\n",
       "      <td>male</td>\n",
       "      <td>M</td>\n",
       "      <td>...</td>\n",
       "      <td>NaN</td>\n",
       "      <td>Orlando Sentinel, 9/19/2016</td>\n",
       "      <td>2016.09.18.c-NSB.pdf</td>\n",
       "      <td>http://sharkattackfile.net/spreadsheets/pdf_di...</td>\n",
       "      <td>http://sharkattackfile.net/spreadsheets/pdf_di...</td>\n",
       "      <td>2016.09.18.c</td>\n",
       "      <td>2016.09.18.c</td>\n",
       "      <td>5993</td>\n",
       "      <td>NaN</td>\n",
       "      <td>NaN</td>\n",
       "    </tr>\n",
       "    <tr>\n",
       "      <th>1</th>\n",
       "      <td>2016.09.18.b</td>\n",
       "      <td>18-Sep-16</td>\n",
       "      <td>2016</td>\n",
       "      <td>Unprovoked</td>\n",
       "      <td>USA</td>\n",
       "      <td>Florida</td>\n",
       "      <td>New Smyrna Beach, Volusia County</td>\n",
       "      <td>Surfing</td>\n",
       "      <td>Chucky Luciano</td>\n",
       "      <td>M</td>\n",
       "      <td>...</td>\n",
       "      <td>NaN</td>\n",
       "      <td>Orlando Sentinel, 9/19/2016</td>\n",
       "      <td>2016.09.18.b-Luciano.pdf</td>\n",
       "      <td>http://sharkattackfile.net/spreadsheets/pdf_di...</td>\n",
       "      <td>http://sharkattackfile.net/spreadsheets/pdf_di...</td>\n",
       "      <td>2016.09.18.b</td>\n",
       "      <td>2016.09.18.b</td>\n",
       "      <td>5992</td>\n",
       "      <td>NaN</td>\n",
       "      <td>NaN</td>\n",
       "    </tr>\n",
       "    <tr>\n",
       "      <th>2</th>\n",
       "      <td>2016.09.18.a</td>\n",
       "      <td>18-Sep-16</td>\n",
       "      <td>2016</td>\n",
       "      <td>Unprovoked</td>\n",
       "      <td>USA</td>\n",
       "      <td>Florida</td>\n",
       "      <td>New Smyrna Beach, Volusia County</td>\n",
       "      <td>Surfing</td>\n",
       "      <td>male</td>\n",
       "      <td>M</td>\n",
       "      <td>...</td>\n",
       "      <td>NaN</td>\n",
       "      <td>Orlando Sentinel, 9/19/2016</td>\n",
       "      <td>2016.09.18.a-NSB.pdf</td>\n",
       "      <td>http://sharkattackfile.net/spreadsheets/pdf_di...</td>\n",
       "      <td>http://sharkattackfile.net/spreadsheets/pdf_di...</td>\n",
       "      <td>2016.09.18.a</td>\n",
       "      <td>2016.09.18.a</td>\n",
       "      <td>5991</td>\n",
       "      <td>NaN</td>\n",
       "      <td>NaN</td>\n",
       "    </tr>\n",
       "    <tr>\n",
       "      <th>3</th>\n",
       "      <td>2016.09.17</td>\n",
       "      <td>17-Sep-16</td>\n",
       "      <td>2016</td>\n",
       "      <td>Unprovoked</td>\n",
       "      <td>AUSTRALIA</td>\n",
       "      <td>Victoria</td>\n",
       "      <td>Thirteenth Beach</td>\n",
       "      <td>Surfing</td>\n",
       "      <td>Rory Angiolella</td>\n",
       "      <td>M</td>\n",
       "      <td>...</td>\n",
       "      <td>NaN</td>\n",
       "      <td>The Age, 9/18/2016</td>\n",
       "      <td>2016.09.17-Angiolella.pdf</td>\n",
       "      <td>http://sharkattackfile.net/spreadsheets/pdf_di...</td>\n",
       "      <td>http://sharkattackfile.net/spreadsheets/pdf_di...</td>\n",
       "      <td>2016.09.17</td>\n",
       "      <td>2016.09.17</td>\n",
       "      <td>5990</td>\n",
       "      <td>NaN</td>\n",
       "      <td>NaN</td>\n",
       "    </tr>\n",
       "    <tr>\n",
       "      <th>4</th>\n",
       "      <td>2016.09.15</td>\n",
       "      <td>16-Sep-16</td>\n",
       "      <td>2016</td>\n",
       "      <td>Unprovoked</td>\n",
       "      <td>AUSTRALIA</td>\n",
       "      <td>Victoria</td>\n",
       "      <td>Bells Beach</td>\n",
       "      <td>Surfing</td>\n",
       "      <td>male</td>\n",
       "      <td>M</td>\n",
       "      <td>...</td>\n",
       "      <td>2 m shark</td>\n",
       "      <td>The Age, 9/16/2016</td>\n",
       "      <td>2016.09.16-BellsBeach.pdf</td>\n",
       "      <td>http://sharkattackfile.net/spreadsheets/pdf_di...</td>\n",
       "      <td>http://sharkattackfile.net/spreadsheets/pdf_di...</td>\n",
       "      <td>2016.09.16</td>\n",
       "      <td>2016.09.15</td>\n",
       "      <td>5989</td>\n",
       "      <td>NaN</td>\n",
       "      <td>NaN</td>\n",
       "    </tr>\n",
       "  </tbody>\n",
       "</table>\n",
       "<p>5 rows × 24 columns</p>\n",
       "</div>"
      ],
      "text/plain": [
       "    Case Number       Date  Year        Type    Country      Area  \\\n",
       "0  2016.09.18.c  18-Sep-16  2016  Unprovoked        USA   Florida   \n",
       "1  2016.09.18.b  18-Sep-16  2016  Unprovoked        USA   Florida   \n",
       "2  2016.09.18.a  18-Sep-16  2016  Unprovoked        USA   Florida   \n",
       "3    2016.09.17  17-Sep-16  2016  Unprovoked  AUSTRALIA  Victoria   \n",
       "4    2016.09.15  16-Sep-16  2016  Unprovoked  AUSTRALIA  Victoria   \n",
       "\n",
       "                           Location Activity             Name Sex   ...  \\\n",
       "0  New Smyrna Beach, Volusia County  Surfing             male    M  ...   \n",
       "1  New Smyrna Beach, Volusia County  Surfing   Chucky Luciano    M  ...   \n",
       "2  New Smyrna Beach, Volusia County  Surfing             male    M  ...   \n",
       "3                  Thirteenth Beach  Surfing  Rory Angiolella    M  ...   \n",
       "4                       Bells Beach  Surfing             male    M  ...   \n",
       "\n",
       "    Species        Investigator or Source                        pdf  \\\n",
       "0        NaN  Orlando Sentinel, 9/19/2016       2016.09.18.c-NSB.pdf   \n",
       "1        NaN  Orlando Sentinel, 9/19/2016   2016.09.18.b-Luciano.pdf   \n",
       "2        NaN  Orlando Sentinel, 9/19/2016       2016.09.18.a-NSB.pdf   \n",
       "3        NaN           The Age, 9/18/2016  2016.09.17-Angiolella.pdf   \n",
       "4  2 m shark           The Age, 9/16/2016  2016.09.16-BellsBeach.pdf   \n",
       "\n",
       "                                        href formula  \\\n",
       "0  http://sharkattackfile.net/spreadsheets/pdf_di...   \n",
       "1  http://sharkattackfile.net/spreadsheets/pdf_di...   \n",
       "2  http://sharkattackfile.net/spreadsheets/pdf_di...   \n",
       "3  http://sharkattackfile.net/spreadsheets/pdf_di...   \n",
       "4  http://sharkattackfile.net/spreadsheets/pdf_di...   \n",
       "\n",
       "                                                href Case Number.1  \\\n",
       "0  http://sharkattackfile.net/spreadsheets/pdf_di...  2016.09.18.c   \n",
       "1  http://sharkattackfile.net/spreadsheets/pdf_di...  2016.09.18.b   \n",
       "2  http://sharkattackfile.net/spreadsheets/pdf_di...  2016.09.18.a   \n",
       "3  http://sharkattackfile.net/spreadsheets/pdf_di...    2016.09.17   \n",
       "4  http://sharkattackfile.net/spreadsheets/pdf_di...    2016.09.16   \n",
       "\n",
       "  Case Number.2 original order Unnamed: 22 Unnamed: 23  \n",
       "0  2016.09.18.c           5993         NaN         NaN  \n",
       "1  2016.09.18.b           5992         NaN         NaN  \n",
       "2  2016.09.18.a           5991         NaN         NaN  \n",
       "3    2016.09.17           5990         NaN         NaN  \n",
       "4    2016.09.15           5989         NaN         NaN  \n",
       "\n",
       "[5 rows x 24 columns]"
      ]
     },
     "execution_count": 5,
     "metadata": {},
     "output_type": "execute_result"
    }
   ],
   "source": [
    "df = pd.read_csv(\"input/GSAF5.csv\", encoding = 'latin1')\n",
    "print(df.shape)\n",
    "df.head()"
   ]
  },
  {
   "cell_type": "code",
   "execution_count": 7,
   "metadata": {
    "scrolled": true
   },
   "outputs": [
    {
     "data": {
      "text/plain": [
       "Case Number                  0\n",
       "Date                         0\n",
       "Year                         0\n",
       "Type                         0\n",
       "Country                     43\n",
       "Area                       402\n",
       "Location                   496\n",
       "Activity                   527\n",
       "Name                       200\n",
       "Sex                        567\n",
       "Age                       2681\n",
       "Injury                      27\n",
       "Fatal (Y/N)                 19\n",
       "Time                      3213\n",
       "Species                   2934\n",
       "Investigator or Source      15\n",
       "pdf                          0\n",
       "href formula                 1\n",
       "href                         3\n",
       "Case Number.1                0\n",
       "Case Number.2                0\n",
       "original order               0\n",
       "Unnamed: 22               5991\n",
       "Unnamed: 23               5990\n",
       "dtype: int64"
      ]
     },
     "execution_count": 7,
     "metadata": {},
     "output_type": "execute_result"
    }
   ],
   "source": [
    "#Obtaining null values for every column:\n",
    "\n",
    "df.isnull().sum()"
   ]
  },
  {
   "cell_type": "markdown",
   "metadata": {},
   "source": [
    "# 0. Preliminary cleansing"
   ]
  },
  {
   "cell_type": "code",
   "execution_count": 8,
   "metadata": {
    "scrolled": false
   },
   "outputs": [
    {
     "name": "stdout",
     "output_type": "stream",
     "text": [
      "Original list of columns: Index(['Case Number', 'Date', 'Year', 'Type', 'Country', 'Area', 'Location',\n",
      "       'Activity', 'Name', 'Sex ', 'Age', 'Injury', 'Fatal (Y/N)', 'Time',\n",
      "       'Species ', 'Investigator or Source', 'pdf', 'href formula', 'href',\n",
      "       'Case Number.1', 'Case Number.2', 'original order', 'Unnamed: 22',\n",
      "       'Unnamed: 23'],\n",
      "      dtype='object')\n",
      "The formatted list of columns:  Index(['Case Number', 'Date', 'Year', 'Type', 'Country', 'Area', 'Location',\n",
      "       'Activity', 'Name', 'Sex', 'Age', 'Injury', 'Fatal (Y/N)', 'Time',\n",
      "       'Species', 'Investigator Or Source', 'Pdf', 'Href Formula', 'Href',\n",
      "       'Case Number.1', 'Case Number.2', 'Original Order', 'Unnamed: 22',\n",
      "       'Unnamed: 23'],\n",
      "      dtype='object')\n"
     ]
    }
   ],
   "source": [
    "#List of columns\n",
    "print(\"Original list of columns:\", df.columns)\n",
    "\n",
    "#List of columns with the same format\n",
    "df.columns = df.columns.str.title()\n",
    "df.columns = df.columns.str.strip()\n",
    "\n",
    "print(\"The formatted list of columns: \", df.columns)"
   ]
  },
  {
   "cell_type": "code",
   "execution_count": 9,
   "metadata": {},
   "outputs": [
    {
     "data": {
      "text/html": [
       "<div>\n",
       "<style scoped>\n",
       "    .dataframe tbody tr th:only-of-type {\n",
       "        vertical-align: middle;\n",
       "    }\n",
       "\n",
       "    .dataframe tbody tr th {\n",
       "        vertical-align: top;\n",
       "    }\n",
       "\n",
       "    .dataframe thead th {\n",
       "        text-align: right;\n",
       "    }\n",
       "</style>\n",
       "<table border=\"1\" class=\"dataframe\">\n",
       "  <thead>\n",
       "    <tr style=\"text-align: right;\">\n",
       "      <th></th>\n",
       "      <th>Case Number</th>\n",
       "      <th>Date</th>\n",
       "      <th>Year</th>\n",
       "      <th>Type</th>\n",
       "      <th>Location</th>\n",
       "      <th>Activity</th>\n",
       "      <th>Name</th>\n",
       "      <th>Sex</th>\n",
       "      <th>Age</th>\n",
       "      <th>Injury</th>\n",
       "      <th>Fatal (Y/N)</th>\n",
       "      <th>Time</th>\n",
       "      <th>Species</th>\n",
       "      <th>Investigator Or Source</th>\n",
       "      <th>Href</th>\n",
       "      <th>Case Number.1</th>\n",
       "      <th>Case Number.2</th>\n",
       "      <th>Original Order</th>\n",
       "      <th>Country and Area</th>\n",
       "    </tr>\n",
       "  </thead>\n",
       "  <tbody>\n",
       "    <tr>\n",
       "      <th>0</th>\n",
       "      <td>2016.09.18.c</td>\n",
       "      <td>18-Sep-16</td>\n",
       "      <td>2016</td>\n",
       "      <td>Unprovoked</td>\n",
       "      <td>New Smyrna Beach, Volusia County</td>\n",
       "      <td>Surfing</td>\n",
       "      <td>male</td>\n",
       "      <td>M</td>\n",
       "      <td>16</td>\n",
       "      <td>Minor injury to thigh</td>\n",
       "      <td>N</td>\n",
       "      <td>13h00</td>\n",
       "      <td>NaN</td>\n",
       "      <td>Orlando Sentinel, 9/19/2016</td>\n",
       "      <td>http://sharkattackfile.net/spreadsheets/pdf_di...</td>\n",
       "      <td>2016.09.18.c</td>\n",
       "      <td>2016.09.18.c</td>\n",
       "      <td>5993</td>\n",
       "      <td>USA Florida</td>\n",
       "    </tr>\n",
       "    <tr>\n",
       "      <th>1</th>\n",
       "      <td>2016.09.18.b</td>\n",
       "      <td>18-Sep-16</td>\n",
       "      <td>2016</td>\n",
       "      <td>Unprovoked</td>\n",
       "      <td>New Smyrna Beach, Volusia County</td>\n",
       "      <td>Surfing</td>\n",
       "      <td>Chucky Luciano</td>\n",
       "      <td>M</td>\n",
       "      <td>36</td>\n",
       "      <td>Lacerations to hands</td>\n",
       "      <td>N</td>\n",
       "      <td>11h00</td>\n",
       "      <td>NaN</td>\n",
       "      <td>Orlando Sentinel, 9/19/2016</td>\n",
       "      <td>http://sharkattackfile.net/spreadsheets/pdf_di...</td>\n",
       "      <td>2016.09.18.b</td>\n",
       "      <td>2016.09.18.b</td>\n",
       "      <td>5992</td>\n",
       "      <td>USA Florida</td>\n",
       "    </tr>\n",
       "    <tr>\n",
       "      <th>2</th>\n",
       "      <td>2016.09.18.a</td>\n",
       "      <td>18-Sep-16</td>\n",
       "      <td>2016</td>\n",
       "      <td>Unprovoked</td>\n",
       "      <td>New Smyrna Beach, Volusia County</td>\n",
       "      <td>Surfing</td>\n",
       "      <td>male</td>\n",
       "      <td>M</td>\n",
       "      <td>43</td>\n",
       "      <td>Lacerations to lower leg</td>\n",
       "      <td>N</td>\n",
       "      <td>10h43</td>\n",
       "      <td>NaN</td>\n",
       "      <td>Orlando Sentinel, 9/19/2016</td>\n",
       "      <td>http://sharkattackfile.net/spreadsheets/pdf_di...</td>\n",
       "      <td>2016.09.18.a</td>\n",
       "      <td>2016.09.18.a</td>\n",
       "      <td>5991</td>\n",
       "      <td>USA Florida</td>\n",
       "    </tr>\n",
       "    <tr>\n",
       "      <th>3</th>\n",
       "      <td>2016.09.17</td>\n",
       "      <td>17-Sep-16</td>\n",
       "      <td>2016</td>\n",
       "      <td>Unprovoked</td>\n",
       "      <td>Thirteenth Beach</td>\n",
       "      <td>Surfing</td>\n",
       "      <td>Rory Angiolella</td>\n",
       "      <td>M</td>\n",
       "      <td>NaN</td>\n",
       "      <td>Struck by fin on chest &amp; leg</td>\n",
       "      <td>N</td>\n",
       "      <td>NaN</td>\n",
       "      <td>NaN</td>\n",
       "      <td>The Age, 9/18/2016</td>\n",
       "      <td>http://sharkattackfile.net/spreadsheets/pdf_di...</td>\n",
       "      <td>2016.09.17</td>\n",
       "      <td>2016.09.17</td>\n",
       "      <td>5990</td>\n",
       "      <td>AUSTRALIA Victoria</td>\n",
       "    </tr>\n",
       "    <tr>\n",
       "      <th>4</th>\n",
       "      <td>2016.09.15</td>\n",
       "      <td>16-Sep-16</td>\n",
       "      <td>2016</td>\n",
       "      <td>Unprovoked</td>\n",
       "      <td>Bells Beach</td>\n",
       "      <td>Surfing</td>\n",
       "      <td>male</td>\n",
       "      <td>M</td>\n",
       "      <td>NaN</td>\n",
       "      <td>No injury: Knocked off board by shark</td>\n",
       "      <td>N</td>\n",
       "      <td>NaN</td>\n",
       "      <td>2 m shark</td>\n",
       "      <td>The Age, 9/16/2016</td>\n",
       "      <td>http://sharkattackfile.net/spreadsheets/pdf_di...</td>\n",
       "      <td>2016.09.16</td>\n",
       "      <td>2016.09.15</td>\n",
       "      <td>5989</td>\n",
       "      <td>AUSTRALIA Victoria</td>\n",
       "    </tr>\n",
       "  </tbody>\n",
       "</table>\n",
       "</div>"
      ],
      "text/plain": [
       "    Case Number       Date  Year        Type  \\\n",
       "0  2016.09.18.c  18-Sep-16  2016  Unprovoked   \n",
       "1  2016.09.18.b  18-Sep-16  2016  Unprovoked   \n",
       "2  2016.09.18.a  18-Sep-16  2016  Unprovoked   \n",
       "3    2016.09.17  17-Sep-16  2016  Unprovoked   \n",
       "4    2016.09.15  16-Sep-16  2016  Unprovoked   \n",
       "\n",
       "                           Location Activity             Name Sex  Age  \\\n",
       "0  New Smyrna Beach, Volusia County  Surfing             male   M   16   \n",
       "1  New Smyrna Beach, Volusia County  Surfing   Chucky Luciano   M   36   \n",
       "2  New Smyrna Beach, Volusia County  Surfing             male   M   43   \n",
       "3                  Thirteenth Beach  Surfing  Rory Angiolella   M  NaN   \n",
       "4                       Bells Beach  Surfing             male   M  NaN   \n",
       "\n",
       "                                  Injury Fatal (Y/N)   Time    Species  \\\n",
       "0                  Minor injury to thigh           N  13h00        NaN   \n",
       "1                   Lacerations to hands           N  11h00        NaN   \n",
       "2               Lacerations to lower leg           N  10h43        NaN   \n",
       "3           Struck by fin on chest & leg           N    NaN        NaN   \n",
       "4  No injury: Knocked off board by shark           N    NaN  2 m shark   \n",
       "\n",
       "        Investigator Or Source  \\\n",
       "0  Orlando Sentinel, 9/19/2016   \n",
       "1  Orlando Sentinel, 9/19/2016   \n",
       "2  Orlando Sentinel, 9/19/2016   \n",
       "3           The Age, 9/18/2016   \n",
       "4           The Age, 9/16/2016   \n",
       "\n",
       "                                                Href Case Number.1  \\\n",
       "0  http://sharkattackfile.net/spreadsheets/pdf_di...  2016.09.18.c   \n",
       "1  http://sharkattackfile.net/spreadsheets/pdf_di...  2016.09.18.b   \n",
       "2  http://sharkattackfile.net/spreadsheets/pdf_di...  2016.09.18.a   \n",
       "3  http://sharkattackfile.net/spreadsheets/pdf_di...    2016.09.17   \n",
       "4  http://sharkattackfile.net/spreadsheets/pdf_di...    2016.09.16   \n",
       "\n",
       "  Case Number.2  Original Order    Country and Area  \n",
       "0  2016.09.18.c            5993         USA Florida  \n",
       "1  2016.09.18.b            5992         USA Florida  \n",
       "2  2016.09.18.a            5991         USA Florida  \n",
       "3    2016.09.17            5990  AUSTRALIA Victoria  \n",
       "4    2016.09.15            5989  AUSTRALIA Victoria  "
      ]
     },
     "execution_count": 9,
     "metadata": {},
     "output_type": "execute_result"
    }
   ],
   "source": [
    "df['Country and Area'] = df['Country'] +' '+ df['Area']\n",
    "\n",
    "\n",
    "df.drop(['Unnamed: 22', 'Unnamed: 23', 'Href Formula', 'Pdf'], axis=1, inplace = True) #Unnecessary or redundant data.\n",
    "df.drop(['Country', 'Area'], axis=1, inplace = True) #Merging two columns\n",
    "\n",
    "df.head()"
   ]
  },
  {
   "cell_type": "markdown",
   "metadata": {},
   "source": [
    "# Hypothesis # 1: Spear-fishers are more frequently attacked than peolpe doing any other activity."
   ]
  },
  {
   "cell_type": "code",
   "execution_count": 10,
   "metadata": {
    "scrolled": true
   },
   "outputs": [
    {
     "name": "stdout",
     "output_type": "stream",
     "text": [
      "Type of data in the Activity column:\n",
      " Surfing                                            904\n",
      "Swimming                                           819\n",
      "Fishing                                            414\n",
      "Spearfishing                                       321\n",
      "Bathing                                            153\n",
      "                                                  ... \n",
      "Fishing for tarpon                                   1\n",
      "Bitten after dhow shipwrecked                        1\n",
      "The Dwarka foundered                                 1\n",
      "Fishing / standing in waist deep water               1\n",
      "The 500-ton coastal trader Polurrian foundered       1\n",
      "Name: Activity, Length: 1492, dtype: int64\n",
      "\n",
      "\n",
      "\n",
      "Type of data in the Fatality column:\n",
      " N          4315\n",
      "Y          1552\n",
      "UNKNOWN      94\n",
      " N            8\n",
      "#VALUE!       1\n",
      "N             1\n",
      "n             1\n",
      "F             1\n",
      "Name: Fatal (Y/N), dtype: int64\n"
     ]
    }
   ],
   "source": [
    "#In order to know what type of data there is in every column:\n",
    "\n",
    "print(\"Type of data in the Activity column:\\n\", df[\"Activity\"].value_counts())\n",
    "print(\"\\n\\n\")\n",
    "print(\"Type of data in the Fatality column:\\n\", df[\"Fatal (Y/N)\"].value_counts())"
   ]
  },
  {
   "cell_type": "code",
   "execution_count": 11,
   "metadata": {},
   "outputs": [],
   "source": [
    "#Creation of functions to standarize the type of data: lowercase, spaces, etc.\n",
    "\n",
    "df = df.apply(lambda x: x.str.strip() if x.dtype == \"object\" else x)\n",
    "df = df.apply(lambda x: x.str.title() if x.dtype == \"object\" else x)"
   ]
  },
  {
   "cell_type": "code",
   "execution_count": 13,
   "metadata": {},
   "outputs": [
    {
     "data": {
      "text/plain": [
       "N          4325\n",
       "Y          1552\n",
       "Unknown      94\n",
       "#Value!       1\n",
       "F             1\n",
       "Name: Fatal (Y/N), dtype: int64"
      ]
     },
     "execution_count": 13,
     "metadata": {},
     "output_type": "execute_result"
    }
   ],
   "source": [
    "#Checking the data has changed:\n",
    "\n",
    "df[\"Fatal (Y/N)\"].value_counts()\n",
    "\n",
    "#Faulty values were cluttered in the Y/N category after formatting them."
   ]
  },
  {
   "cell_type": "code",
   "execution_count": 15,
   "metadata": {},
   "outputs": [
    {
     "name": "stdout",
     "output_type": "stream",
     "text": [
      "Total of people spearfishing: 328\n",
      "Total of people not spearfishing: 5664\n",
      "Total of killed people: 1552\n",
      "Total of non fatal attacks: 4325\n",
      "Total of attacked people: 5992\n",
      "\n",
      "\n",
      "\n",
      "The percentage of survivors/deaths/unknown is: 72.0 / 26.0 / 2.0\n"
     ]
    }
   ],
   "source": [
    "activity_death = df[['Activity', 'Fatal (Y/N)']] #New dataframe to use only the memory resources necessary.\n",
    "\n",
    "#Activity: spearfishing\n",
    "people_spearfishing = activity_death[(activity_death.Activity == 'Spearfishing')]\n",
    "print(\"Total of people spearfishing:\", len(people_spearfishing.index))\n",
    "\n",
    "#Activity: NO spearfishing\n",
    "people_not_spearfishing = activity_death[(activity_death.Activity != 'Spearfishing')]\n",
    "print(\"Total of people not spearfishing:\", len(people_not_spearfishing.index))\n",
    "\n",
    "\n",
    "#Killed\n",
    "killed = activity_death[(activity_death['Fatal (Y/N)'] == 'Y')]\n",
    "print(\"Total of killed people:\", len(killed.index))\n",
    "\n",
    "#Not killed\n",
    "not_killed = activity_death[(activity_death['Fatal (Y/N)'] == 'N')]\n",
    "print(\"Total of non fatal attacks:\", len(not_killed.index))\n",
    "print(\"Total of attacked people:\", len(df.index))\n",
    "\n",
    "print(\"\\n\\n\")\n",
    "\n",
    "death_rate = df['Fatal (Y/N)'].value_counts(normalize=True)\n",
    "print(\"The percentage of survivors/deaths/unknown is:\", round(death_rate[0]*100),\"/\",round(death_rate[1]*100), \"/\", 100-(round(death_rate[0]*100) + round(death_rate[1]*100)))"
   ]
  },
  {
   "cell_type": "code",
   "execution_count": 16,
   "metadata": {},
   "outputs": [
    {
     "ename": "TypeError",
     "evalue": "crosstab() missing 1 required positional argument: 'columns'",
     "output_type": "error",
     "traceback": [
      "\u001b[0;31m-----------------------------------------------------------------------\u001b[0m",
      "\u001b[0;31mTypeError\u001b[0m                             Traceback (most recent call last)",
      "\u001b[0;32m<ipython-input-16-9fab44f1b260>\u001b[0m in \u001b[0;36m<module>\u001b[0;34m\u001b[0m\n\u001b[0;32m----> 1\u001b[0;31m \u001b[0mpd\u001b[0m\u001b[0;34m.\u001b[0m\u001b[0mcrosstab\u001b[0m\u001b[0;34m(\u001b[0m\u001b[0mactivity_death\u001b[0m\u001b[0;34m)\u001b[0m\u001b[0;34m\u001b[0m\u001b[0;34m\u001b[0m\u001b[0m\n\u001b[0m",
      "\u001b[0;31mTypeError\u001b[0m: crosstab() missing 1 required positional argument: 'columns'"
     ]
    }
   ],
   "source": [
    "pd.crosstab(activity_death)"
   ]
  },
  {
   "cell_type": "code",
   "execution_count": 10,
   "metadata": {},
   "outputs": [
    {
     "name": "stdout",
     "output_type": "stream",
     "text": [
      "Personas muertas pescando: 51\n"
     ]
    }
   ],
   "source": [
    "#Para obtener el número de personas que han muerto & estaban pescando (Actividad: Spearfishing, Fatalidad: Sí)\n",
    "\n",
    "killed_spearfishing = activity_death[(activity_death['Activity'] == \"Spearfishing\") & (activity_death['Fatal (Y/N)'] == \"Y\")]\n",
    "\n",
    "print(\"Personas muertas pescando:\", len(killed_spearfishing.index))\n",
    "\n",
    "#La proporción de personas que murió pescando:\n",
    "\n",
    "spearfishing_death_rate = (len(killed_spearfishing.index) / len(killed.index))\n"
   ]
  },
  {
   "cell_type": "code",
   "execution_count": 11,
   "metadata": {},
   "outputs": [
    {
     "name": "stdout",
     "output_type": "stream",
     "text": [
      "Personas muertas no pescando: 1501\n"
     ]
    }
   ],
   "source": [
    "#Para obtener el número de personas que han muerto & NO estaban pescando (Actividad: no spearfishing, Fatalidad: Sí)\n",
    "\n",
    "killed_not_spearfishing = activity_death[(activity_death['Activity'] != \"Spearfishing\") & (activity_death['Fatal (Y/N)'] == \"Y\")]\n",
    "print(\"Personas muertas no pescando:\", len(killed_not_spearfishing.index))\n",
    "\n",
    "# La proporción de personas que murió haciendo otra actividad:\n",
    "\n",
    "not_spearfishing_death_rate = (len(killed_not_spearfishing.index)/len(killed.index))"
   ]
  },
  {
   "cell_type": "code",
   "execution_count": 12,
   "metadata": {},
   "outputs": [
    {
     "name": "stdout",
     "output_type": "stream",
     "text": [
      "El porcentaje de gente que ha muerto pescando es: 3.0 %\n",
      "El porcentaje de gente que ha muerto no pescando es: 97.0 %\n"
     ]
    }
   ],
   "source": [
    "# ¿Es mayor el número de muertes en gente que estaba pescando vs. haciendo otra actividad?\n",
    "\n",
    "print(\"El porcentaje de gente que ha muerto pescando es:\", round(spearfishing_death_rate, 2) * 100, \"%\")\n",
    "print(\"El porcentaje de gente que ha muerto no pescando es:\", (round(not_spearfishing_death_rate, 2)) * 100, \"%\")"
   ]
  },
  {
   "cell_type": "code",
   "execution_count": 13,
   "metadata": {},
   "outputs": [
    {
     "name": "stdout",
     "output_type": "stream",
     "text": [
      "'Es mayor el porcentaje de gente que muere pescando que el que no': False\n"
     ]
    }
   ],
   "source": [
    "print(\"'Es mayor el porcentaje de gente que muere pescando que el que no':\", round(spearfishing_death_rate, 2) > (round(not_spearfishing_death_rate, 2)) * 100)"
   ]
  },
  {
   "cell_type": "markdown",
   "metadata": {},
   "source": [
    "# Hipótesis 2: Las mujeres sufren menos ataques de tiburones que los hombres."
   ]
  },
  {
   "cell_type": "code",
   "execution_count": 14,
   "metadata": {},
   "outputs": [
    {
     "data": {
      "text/plain": [
       "M      4837\n",
       "F       585\n",
       ".         1\n",
       "Lli       1\n",
       "N         1\n",
       "Name: Sex, dtype: int64"
      ]
     },
     "execution_count": 14,
     "metadata": {},
     "output_type": "execute_result"
    }
   ],
   "source": [
    "#De nuevo para ver cómo están registrados los datos:\n",
    "\n",
    "df['Sex'].value_counts()"
   ]
  },
  {
   "cell_type": "code",
   "execution_count": 15,
   "metadata": {},
   "outputs": [
    {
     "name": "stdout",
     "output_type": "stream",
     "text": [
      "El 89.21 % de los ataques fue hacia hombres y el 10.79 % hacia mujeres.\n"
     ]
    }
   ],
   "source": [
    "#EL SEXO\n",
    "\n",
    "#Total\n",
    "men = df[(df.Sex == 'M')]\n",
    "women = df[(df.Sex == 'F')]\n",
    "\n",
    "\n",
    "#Relativo\n",
    "men_rate = round((len(men.index) / (len(men.index) + len(women.index))) * 100, 2) \n",
    "women_rate = round((len(women.index) / (len(men.index) + len(women.index))) * 100, 2)\n",
    "\n",
    "print(\"El\", men_rate, \"% de los ataques fue hacia hombres y el\", women_rate, \"% hacia mujeres.\")"
   ]
  },
  {
   "cell_type": "code",
   "execution_count": 16,
   "metadata": {},
   "outputs": [
    {
     "name": "stdout",
     "output_type": "stream",
     "text": [
      "'Las mujeres sufren menos ataques de tiburones que los hombres': True\n"
     ]
    }
   ],
   "source": [
    "print(\"'Las mujeres sufren menos ataques de tiburones que los hombres':\", women_rate < men_rate)"
   ]
  },
  {
   "cell_type": "markdown",
   "metadata": {},
   "source": [
    "# Hipótesis 3: Los registros de ataques son más frecuentes cuanto más nos acercamos a la actualidad.\n"
   ]
  },
  {
   "cell_type": "code",
   "execution_count": 17,
   "metadata": {},
   "outputs": [
    {
     "name": "stdout",
     "output_type": "stream",
     "text": [
      "Número de ataques en la primera mitad del siglo XX: 1053 | Hubo una media de 21.06 ataques por año.\n",
      "Número de ataques en la segunda mitad del siglo XX: 2308 | Hubo una media de 46.16 ataques por año.\n",
      "Número de ataques en el siglo XXI: 1855 | Hubo 37.1 ataques por año.\n",
      "\n",
      "\n"
     ]
    }
   ],
   "source": [
    "#NÚMERO TOTAL DE ATAQUES EN EL S.XX\n",
    "\n",
    "#Primera mitad del S.XX\n",
    "\n",
    "first_mid = list(range(1900, 1950))\n",
    "\n",
    "count_first_mid = 0\n",
    "primera_mitad = []\n",
    "\n",
    "for i in first_mid:\n",
    "    for n in df.Year:\n",
    "        if i == n:\n",
    "            count_first_mid+=1\n",
    "            primera_mitad.append(n)\n",
    "            \n",
    "print(\"Número de ataques en la primera mitad del siglo XX:\", count_first_mid, \"| Hubo una media de\", count_first_mid / 50, \"ataques por año.\")\n",
    "\n",
    "\n",
    "#Segunda mitad del S.XX\n",
    "\n",
    "second_mid = list(range(1951, 1999))\n",
    "\n",
    "count_second_mid = 0\n",
    "segunda_mitad = []\n",
    "\n",
    "for i in second_mid:\n",
    "    for n in df.Year:\n",
    "        if i == n:\n",
    "            count_second_mid+=1\n",
    "            segunda_mitad.append(n)\n",
    "            \n",
    "print(\"Número de ataques en la segunda mitad del siglo XX:\", count_second_mid,\"| Hubo una media de\", count_second_mid / 50, \"ataques por año.\")\n",
    "\n",
    "\n",
    "#Siglo XXI\n",
    "\n",
    "xxi_century = list(range(2000, 2021))\n",
    "\n",
    "count_xxi_century = 0\n",
    "xxi = []\n",
    "\n",
    "for i in xxi_century:\n",
    "    for n in df.Year:\n",
    "        if i == n:\n",
    "            count_xxi_century+=1\n",
    "            xxi.append(n)\n",
    "\n",
    "print(\"Número de ataques en el siglo XXI:\", count_xxi_century,\"| Hubo\", count_xxi_century / 50, \"ataques por año.\")\n",
    "\n",
    "print(\"\\n\")"
   ]
  },
  {
   "cell_type": "code",
   "execution_count": 18,
   "metadata": {},
   "outputs": [
    {
     "name": "stdout",
     "output_type": "stream",
     "text": [
      "Frecuencia de los ataques según año por medio siglo: \n",
      "\n",
      " Counter({1942: 41, 1929: 37, 1935: 32, 1944: 31, 1949: 31, 1936: 30, 1937: 30, 1947: 30, 1931: 29, 1948: 29, 1943: 28, 1932: 27, 1934: 27, 1941: 27, 1928: 26, 1930: 26, 1946: 26, 1916: 25, 1938: 24, 1939: 24, 1940: 24, 1907: 23, 1922: 22, 1933: 22, 1906: 21, 1923: 21, 1926: 21, 1924: 19, 1927: 19, 1909: 18, 1914: 17, 1905: 16, 1911: 16, 1913: 16, 1945: 16, 1902: 15, 1920: 15, 1910: 14, 1919: 14, 1925: 14, 1900: 13, 1904: 13, 1908: 13, 1912: 13, 1915: 12, 1917: 11, 1921: 11, 1903: 10, 1901: 9, 1918: 5}) \n",
      "\n",
      " Counter({1959: 93, 1960: 93, 1962: 86, 1961: 78, 1995: 76, 1964: 66, 1998: 65, 1963: 61, 1996: 61, 1966: 58, 1997: 57, 1992: 56, 1993: 56, 1994: 56, 1988: 55, 1958: 54, 1989: 53, 1956: 51, 1965: 51, 1983: 50, 1975: 49, 1981: 49, 1967: 48, 1968: 46, 1955: 43, 1954: 42, 1970: 42, 1957: 41, 1984: 41, 1982: 40, 1976: 39, 1986: 39, 1974: 38, 1990: 38, 1991: 38, 1985: 37, 1953: 36, 1972: 35, 1980: 35, 1987: 35, 1951: 31, 1969: 30, 1952: 29, 1971: 28, 1973: 27, 1977: 26, 1978: 25, 1979: 25}) \n",
      "\n",
      " Counter({2015: 139, 2011: 128, 2014: 125, 2013: 122, 2008: 121, 2009: 120, 2012: 117, 2007: 112, 2005: 103, 2006: 103, 2016: 103, 2010: 101, 2000: 97, 2001: 92, 2003: 92, 2004: 92, 2002: 88})\n"
     ]
    }
   ],
   "source": [
    "#Frecuencia de los ataques según año y mitades de siglo:\n",
    "\n",
    "from collections import Counter\n",
    "\n",
    "ataques_segunda = Counter(segunda_mitad)\n",
    "ataques_primera = Counter(primera_mitad)\n",
    "ataques_xxi = Counter(xxi)\n",
    "\n",
    "print(f\"Frecuencia de los ataques según año por medio siglo: \\n\\n {ataques_primera} \\n\\n {ataques_segunda} \\n\\n {ataques_xxi}\")"
   ]
  },
  {
   "cell_type": "code",
   "execution_count": 19,
   "metadata": {},
   "outputs": [
    {
     "data": {
      "image/png": "[encoded data removed]",
      "text/plain": [
       "<Figure size 432x288 with 1 Axes>"
      ]
     },
     "metadata": {
      "needs_background": "light"
     },
     "output_type": "display_data"
    },
    {
     "data": {
      "image/png": "[encoded data removed]",
      "text/plain": [
       "<Figure size 432x288 with 1 Axes>"
      ]
     },
     "metadata": {
      "needs_background": "light"
     },
     "output_type": "display_data"
    },
    {
     "data": {
      "image/png": "[encoded data removed]",
      "text/plain": [
       "<Figure size 432x288 with 1 Axes>"
      ]
     },
     "metadata": {
      "needs_background": "light"
     },
     "output_type": "display_data"
    }
   ],
   "source": [
    "#De forma gráfica:\n",
    "\n",
    "plt.plot(*zip(*sorted(Counter(primera_mitad).items())))\n",
    "plt.show()\n",
    "\n",
    "plt.plot(*zip(*sorted(Counter(segunda_mitad).items())))\n",
    "plt.show()\n",
    "\n",
    "plt.plot(*zip(*sorted(Counter(xxi).items())))\n",
    "plt.show()"
   ]
  },
  {
   "cell_type": "code",
   "execution_count": 20,
   "metadata": {},
   "outputs": [
    {
     "name": "stdout",
     "output_type": "stream",
     "text": [
      "'Los registros de ataques son más frecuentes cuanto más nos acercamos a la actualidad': False\n"
     ]
    }
   ],
   "source": [
    "print(\"'Los registros de ataques son más frecuentes cuanto más nos acercamos a la actualidad':\",count_first_mid < count_second_mid < count_xxi_century)"
   ]
  },
  {
   "cell_type": "code",
   "execution_count": 21,
   "metadata": {},
   "outputs": [],
   "source": [
    "#Exportamos el archivo con las modificaciones:\n",
    "\n",
    "df.to_csv(\"output/sharks-cleanfile.csv\", encoding=\"latin1\")"
   ]
  }
 ],
 "metadata": {
  "kernelspec": {
   "display_name": "Python 3",
   "language": "python",
   "name": "python3"
  },
  "language_info": {
   "codemirror_mode": {
    "name": "ipython",
    "version": 3
   },
   "file_extension": ".py",
   "mimetype": "text/x-python",
   "name": "python",
   "nbconvert_exporter": "python",
   "pygments_lexer": "ipython3",
   "version": "3.7.6"
  }
 },
 "nbformat": 4,
 "nbformat_minor": 2
}
